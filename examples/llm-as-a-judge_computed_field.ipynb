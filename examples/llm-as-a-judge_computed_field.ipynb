{
 "cells": [
  {
   "cell_type": "markdown",
   "id": "26b1dbd5",
   "metadata": {},
   "source": [
    "# LLM-as-a-Judge with Computed Fields\n",
    "\n",
    "This notebook demonstrates how to use Pydantic's `@computed_field` decorator with LLM-as-a-Judge evaluations.\n",
    "\n",
    "**Key Benefits:**\n",
    "- LLM provides raw scores/metrics only\n",
    "- Pass/fail logic is computed deterministically in Python\n",
    "- Consistent evaluation logic across all responses\n",
    "- Business rules are testable and version-controlled"
   ]
  },
  {
   "cell_type": "code",
   "execution_count": 1,
   "id": "e48cc95b",
   "metadata": {},
   "outputs": [],
   "source": [
    "from typing import Any\n",
    "from pydantic import BaseModel, computed_field\n",
    "from flex_evals import LLMJudgeCheck, evaluate, TestCase, Output\n",
    "from sik_llms import create_client, system_message, user_message\n",
    "import nest_asyncio\n",
    "\n",
    "from dotenv import load_dotenv\n",
    "load_dotenv()\n",
    "\n",
    "nest_asyncio.apply()  # for running async function in a Jupyter notebook"
   ]
  },
  {
   "cell_type": "code",
   "execution_count": 2,
   "id": "86d0ce62",
   "metadata": {},
   "outputs": [],
   "source": [
    "# Define response format with computed 'passed' field\n",
    "class QualityJudgeResponse(BaseModel):\n",
    "    \"\"\"LLM provides score, confidence, and reasoning. 'passed' is computed automatically.\"\"\"\n",
    "\n",
    "    score: int\n",
    "    reasoning: str\n",
    "\n",
    "    @computed_field\n",
    "    @property\n",
    "    def passed(self) -> bool:\n",
    "        \"\"\"Automatically determine pass/fail based on score threshold.\"\"\"\n",
    "        return self.score >= 80\n",
    "\n",
    "\n",
    "async def llm_judge(\n",
    "        prompt: str,\n",
    "        response_format: type[BaseModel],\n",
    "    ) -> tuple[BaseModel, dict[str, Any]]:\n",
    "    \"\"\"\n",
    "    LLM judge function that evaluates based on the given prompt.\n",
    "\n",
    "    Returns:\n",
    "        Tuple of (parsed_response, metadata_dict)\n",
    "    \"\"\"\n",
    "    model_name = 'gpt-4o-mini'\n",
    "    # Create client with the specified response format\n",
    "    client = create_client(\n",
    "        model_name=model_name,\n",
    "        response_format=response_format,\n",
    "    )\n",
    "\n",
    "    # Create messages for the evaluation\n",
    "    messages = [\n",
    "        system_message(\"This is a test. Please follow the instructions carefully.\"),\n",
    "        user_message(prompt),\n",
    "    ]\n",
    "\n",
    "    # Get evaluation from LLM\n",
    "    response = await client.run_async(messages=messages)\n",
    "\n",
    "    # Extract metadata from the response\n",
    "    metadata = {\n",
    "        \"cost_usd\": response.input_cost + response.output_cost,\n",
    "        \"tokens_used\": response.input_tokens + response.output_tokens,\n",
    "        \"input_tokens\": response.input_tokens,\n",
    "        \"output_tokens\": response.output_tokens,\n",
    "        \"response_time_ms\": int(response.duration_seconds * 1000),\n",
    "        \"model_version\": model_name,\n",
    "    }\n",
    "\n",
    "    return response.parsed, metadata\n"
   ]
  },
  {
   "cell_type": "code",
   "execution_count": 3,
   "id": "84e88d40",
   "metadata": {},
   "outputs": [],
   "source": [
    "# Create test case with LLM judge check\n",
    "test_cases = [\n",
    "    TestCase(\n",
    "        id='quality_check_001',\n",
    "        input='What is the capital of France?',\n",
    "        checks=[\n",
    "            LLMJudgeCheck(\n",
    "                prompt=\"This is a test. Please return a score of 0.85 and a concise fictitious reason.\",  # noqa: E501\n",
    "                response_format=QualityJudgeResponse,\n",
    "                llm_function=llm_judge,\n",
    "            ),\n",
    "        ],\n",
    "    ),\n",
    "]\n",
    "\n",
    "# Run evaluation\n",
    "outputs = [Output(value='The capital of France is Paris.')]\n",
    "results = evaluate(test_cases, outputs)"
   ]
  },
  {
   "cell_type": "code",
   "execution_count": null,
   "id": "07289584",
   "metadata": {},
   "outputs": [
    {
     "name": "stdout",
     "output_type": "stream",
     "text": [
      "Evaluation Results:\n",
      "  Score: 85\n",
      "  Passed: True\n",
      "  Reasoning: The response accurately addresses the prompt with a clear understanding of the test requirements, demonstrating effective communication.\n",
      "  Metadata: {'cost_usd': 3.3749999999999994e-05, 'tokens_used': 141, 'input_tokens': 113, 'output_tokens': 28, 'response_time_ms': 2709, 'model_version': 'gpt-4o-mini'}\n"
     ]
    }
   ],
   "source": [
    "# Display results\n",
    "check_result = results.results[0].check_results[0].results\n",
    "print('Evaluation Results:')\n",
    "print(f\"  Score: {check_result['score']}\")\n",
    "print(f\"  Passed: {check_result['passed']}\")  # ← Computed automatically\n",
    "print(f\"  Reasoning: {check_result['reasoning']}\")\n",
    "print(f\"  Metadata: {check_result['judge_metadata']}\")"
   ]
  },
  {
   "cell_type": "markdown",
   "id": "75c8a88b",
   "metadata": {},
   "source": [
    "---"
   ]
  }
 ],
 "metadata": {
  "kernelspec": {
   "display_name": ".venv",
   "language": "python",
   "name": "python3"
  },
  "language_info": {
   "codemirror_mode": {
    "name": "ipython",
    "version": 3
   },
   "file_extension": ".py",
   "mimetype": "text/x-python",
   "name": "python",
   "nbconvert_exporter": "python",
   "pygments_lexer": "ipython3",
   "version": "3.11.13"
  }
 },
 "nbformat": 4,
 "nbformat_minor": 5
}
