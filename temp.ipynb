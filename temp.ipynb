{
 "cells": [
  {
   "cell_type": "code",
   "execution_count": 1,
   "id": "23053c32",
   "metadata": {},
   "outputs": [
    {
     "name": "stdout",
     "output_type": "stream",
     "text": [
      "{'attribute_exists': {'1.0.0': {'version': '1.0.0', 'is_async': False, 'description': 'Tests whether an attribute/field exists as defined by the JSONPath; useful for checking if optional fields.', 'fields': {'path': {'type': 'JSONPath', 'nullable': False, 'description': 'JSONPath expression to check for existence (e.g., \"$.output.error\")', 'jsonpath': 'required'}, 'negate': {'type': 'union<boolean,JSONPath>', 'nullable': False, 'description': 'If true, passes when attribute does NOT exist', 'default': False, 'jsonpath': 'optional'}}, 'check_class': 'AttributeExistsCheck'}}, 'contains': {'1.0.0': {'version': '1.0.0', 'is_async': False, 'description': 'Checks if the string value contains all specified phrases.', 'fields': {'text': {'type': 'union<string,JSONPath>', 'nullable': False, 'description': 'Text to search or JSONPath expression pointing to the text', 'jsonpath': 'optional'}, 'phrases': {'type': 'union<string,array<string>,JSONPath>', 'nullable': False, 'description': 'Single string or array of strings that must be present', 'jsonpath': 'optional'}, 'case_sensitive': {'type': 'union<boolean,JSONPath>', 'nullable': False, 'description': 'Whether phrase matching is case-sensitive', 'default': True, 'jsonpath': 'optional'}, 'negate': {'type': 'union<boolean,JSONPath>', 'nullable': False, 'description': 'If true, passes when text contains none of the phrases', 'default': False, 'jsonpath': 'optional'}}, 'check_class': 'ContainsCheck'}}, 'custom_function': {'1.0.0': {'version': '1.0.0', 'is_async': True, 'description': 'Executes user-provided python validation functions.', 'fields': {'validation_function': {'type': 'Any', 'nullable': False, 'description': 'User-provided function or string function definition'}, 'function_args': {'type': 'object<string,Any>', 'nullable': False, 'description': 'Arguments to pass to validation_function (JSONPath expressions supported)'}}, 'check_class': 'CustomFunctionCheck'}}, 'equals': {'1.0.0': {'version': '1.0.0', 'is_async': False, 'description': \"Tests whether two values of any type are equal using Python's == operator.\", 'fields': {'actual': {'type': 'union<string,array,object,set,tuple,integer,number,boolean,JSONPath>', 'nullable': False, 'description': 'Value to check or JSONPath expression pointing to the value', 'jsonpath': 'optional'}, 'expected': {'type': 'union<string,array,object,set,tuple,integer,number,boolean,JSONPath>', 'nullable': False, 'description': 'Expected value or JSONPath expression pointing to the value', 'jsonpath': 'optional'}, 'negate': {'type': 'union<boolean,JSONPath>', 'nullable': False, 'description': \"If true, passes when values don't match\", 'default': False, 'jsonpath': 'optional'}}, 'check_class': 'EqualsCheck'}}, 'exact_match': {'1.0.0': {'version': '1.0.0', 'is_async': False, 'description': 'Compares two text values for exact equality.', 'fields': {'actual': {'type': 'union<Any,JSONPath>', 'nullable': False, 'description': 'Value to check or JSONPath expression pointing to the value', 'jsonpath': 'optional'}, 'expected': {'type': 'union<Any,JSONPath>', 'nullable': False, 'description': 'Expected value or JSONPath expression pointing to the value', 'jsonpath': 'optional'}, 'case_sensitive': {'type': 'union<boolean,JSONPath>', 'nullable': False, 'description': 'Whether string comparison is case-sensitive', 'default': True, 'jsonpath': 'optional'}, 'negate': {'type': 'union<boolean,JSONPath>', 'nullable': False, 'description': \"If true, passes when values don't match\", 'default': False, 'jsonpath': 'optional'}}, 'check_class': 'ExactMatchCheck'}}, 'is_empty': {'1.0.0': {'version': '1.0.0', 'is_async': False, 'description': 'Tests whether a value is empty (None, empty string, whitespace-only, or any empty collection that supports len()).', 'fields': {'value': {'type': 'union<string,array,object,set,tuple,integer,number,boolean,JSONPath>', 'nullable': False, 'description': 'Value to test for emptiness or JSONPath expression', 'jsonpath': 'optional'}, 'negate': {'type': 'union<boolean,JSONPath>', 'nullable': False, 'description': 'If true, passes when value is not empty', 'default': False, 'jsonpath': 'optional'}, 'strip_whitespace': {'type': 'union<boolean,JSONPath>', 'nullable': False, 'description': 'If true, strips whitespace before checking (strings only)', 'default': True, 'jsonpath': 'optional'}}, 'check_class': 'IsEmptyCheck'}}, 'llm_judge': {'1.0.0': {'version': '1.0.0', 'is_async': True, 'description': 'Uses an LLM to evaluate outputs against complex, nuanced criteria.', 'fields': {'prompt': {'type': 'union<string,JSONPath>', 'nullable': False, 'description': 'Prompt template with optional {{$.jsonpath}} placeholders', 'jsonpath': 'optional'}, 'response_format': {'type': 'type', 'nullable': False, 'description': 'Pydantic model defining expected LLM response structure'}, 'llm_function': {'type': 'Any', 'nullable': False, 'description': 'Function to call LLM with signature: (prompt, response_format) -> tuple[BaseModel, dict]'}}, 'check_class': 'LLMJudgeCheck'}}, 'regex': {'1.0.0': {'version': '1.0.0', 'is_async': False, 'description': 'Checks if a text value matches a specified regular expression pattern.', 'fields': {'text': {'type': 'union<string,JSONPath>', 'nullable': False, 'description': 'Text to test against the pattern or JSONPath expression', 'jsonpath': 'optional'}, 'pattern': {'type': 'union<string,JSONPath>', 'nullable': False, 'description': 'Regular expression pattern to match against the text', 'jsonpath': 'optional'}, 'negate': {'type': 'union<boolean,JSONPath>', 'nullable': False, 'description': \"If true, passes when pattern doesn't match\", 'default': False, 'jsonpath': 'optional'}, 'flags': {'type': 'union<RegexFlags,JSONPath>', 'nullable': False, 'description': 'Regex matching options', 'jsonpath': 'optional'}}, 'check_class': 'RegexCheck'}}, 'semantic_similarity': {'1.0.0': {'version': '1.0.0', 'is_async': True, 'description': 'Computes semantic similarity between two texts using embeddings.', 'fields': {'text': {'type': 'union<string,JSONPath>', 'nullable': False, 'description': 'First text to compare or JSONPath expression', 'jsonpath': 'optional'}, 'reference': {'type': 'union<string,JSONPath>', 'nullable': False, 'description': 'Second text to compare against or JSONPath expression', 'jsonpath': 'optional'}, 'threshold': {'type': 'union<ThresholdConfig,JSONPath>', 'nullable': False, 'description': 'Threshold configuration for pass/fail determination', 'default': None, 'jsonpath': 'optional'}, 'embedding_function': {'type': 'Any', 'nullable': False, 'description': 'User-provided function to generate embeddings'}, 'similarity_metric': {'type': 'union<enum<COSINE,DOT,EUCLIDEAN>,JSONPath>', 'nullable': False, 'description': 'Similarity calculation method', 'default': <SimilarityMetric.COSINE: 'cosine'>, 'jsonpath': 'optional'}}, 'check_class': 'SemanticSimilarityCheck'}}, 'threshold': {'1.0.0': {'version': '1.0.0', 'is_async': False, 'description': 'Checks if a numeric value meets minimum/maximum thresholds.', 'fields': {'value': {'type': 'union<number,integer,JSONPath>', 'nullable': False, 'description': 'Numeric value to check or JSONPath expression', 'jsonpath': 'optional'}, 'min_value': {'type': 'union<number,integer,JSONPath>', 'nullable': False, 'description': 'Minimum acceptable value or JSONPath expression', 'default': None, 'jsonpath': 'optional'}, 'max_value': {'type': 'union<number,integer,JSONPath>', 'nullable': False, 'description': 'Maximum acceptable value or JSONPath expression', 'default': None, 'jsonpath': 'optional'}, 'min_inclusive': {'type': 'union<boolean,JSONPath>', 'nullable': False, 'description': 'If true, min_value is inclusive (>=), else exclusive (>)', 'default': True, 'jsonpath': 'optional'}, 'max_inclusive': {'type': 'union<boolean,JSONPath>', 'nullable': False, 'description': 'If true, max_value is inclusive (<=), else exclusive (<)', 'default': True, 'jsonpath': 'optional'}, 'negate': {'type': 'union<boolean,JSONPath>', 'nullable': False, 'description': 'If true, passes when value is outside the specified range', 'default': False, 'jsonpath': 'optional'}}, 'check_class': 'ThresholdCheck'}}}\n"
     ]
    }
   ],
   "source": [
    "from flex_evals import generate_checks_schema\n",
    "\n",
    "print(generate_checks_schema())"
   ]
  }
 ],
 "metadata": {
  "kernelspec": {
   "display_name": ".venv",
   "language": "python",
   "name": "python3"
  },
  "language_info": {
   "codemirror_mode": {
    "name": "ipython",
    "version": 3
   },
   "file_extension": ".py",
   "mimetype": "text/x-python",
   "name": "python",
   "nbconvert_exporter": "python",
   "pygments_lexer": "ipython3",
   "version": "3.11.13"
  }
 },
 "nbformat": 4,
 "nbformat_minor": 5
}
